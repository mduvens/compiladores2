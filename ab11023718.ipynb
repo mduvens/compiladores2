{
 "cells": [
  {
   "cell_type": "markdown",
   "metadata": {},
   "source": [
    "### 1. Pesquise qual o formato dos emails e crie um programa que reconheça emails corretamente escritos."
   ]
  },
  {
   "cell_type": "code",
   "execution_count": 203,
   "metadata": {},
   "outputs": [
    {
     "name": "stdin",
     "output_type": "stream",
     "text": [
      "Insira um e-mail:  dfsd_fsd@gmaaik.com\n"
     ]
    },
    {
     "name": "stdout",
     "output_type": "stream",
     "text": [
      "E-mail aceite\n"
     ]
    }
   ],
   "source": [
    "import re\n",
    "\n",
    "regex = '^\\w[\\w\\.-]+@\\w+[.]\\w+$'\n",
    "\n",
    "email = input('Insira um e-mail: ')\n",
    "x = re.match(regex, email)\n",
    "if x:\n",
    "    print('E-mail aceite')\n",
    "else:\n",
    "    print('E-mail não aceite')"
   ]
  },
  {
   "cell_type": "markdown",
   "metadata": {},
   "source": [
    "### 2. Escreva uma expressão regular e utilize-a num programa que valide uma nota entre 0 e 20 valores, aceitando números inteiros, ou com até duas casas decimais."
   ]
  },
  {
   "cell_type": "code",
   "execution_count": 163,
   "metadata": {},
   "outputs": [
    {
     "name": "stdin",
     "output_type": "stream",
     "text": [
      "Insira a nota:  14.5\n"
     ]
    },
    {
     "name": "stdout",
     "output_type": "stream",
     "text": [
      "Nota valida\n"
     ]
    }
   ],
   "source": [
    "import re\n",
    "\n",
    "regex = r'^([0-9]|^[0-1][0-9])(\\.\\d\\d?)?$|^(20)$'\n",
    "\n",
    "nota = input(\"Insira a nota: \")\n",
    "\n",
    "if re.match(regex, nota):\n",
    "    print(\"Nota valida\")\n",
    "else:\n",
    "    print(\"Nota inválida\")"
   ]
  },
  {
   "cell_type": "markdown",
   "metadata": {},
   "source": [
    "### 3. Escreva um programa que valida se um número de telefone de 9 dígitos está correto. Neste caso não têm espaço entre os dígitos."
   ]
  },
  {
   "cell_type": "code",
   "execution_count": 192,
   "metadata": {},
   "outputs": [
    {
     "name": "stdin",
     "output_type": "stream",
     "text": [
      "Insira nº de telefone:  912342323\n"
     ]
    },
    {
     "name": "stdout",
     "output_type": "stream",
     "text": [
      "número válido\n"
     ]
    }
   ],
   "source": [
    "import re\n",
    "\n",
    "regex = r'^[2789]\\d{8}$'\n",
    "telefone = input(\"Insira nº de telefone: \")\n",
    "\n",
    "if re.match(regex,telefone):\n",
    "    print ('número válido')\n",
    "else:\n",
    "    print ('número inválido')"
   ]
  },
  {
   "cell_type": "markdown",
   "metadata": {},
   "source": [
    "### 4. Escreva um programa que valida se um número de telefone de 9 dígitos está correto. Poderá ter espaços entre dígitos assim como '-'.\n",
    "    \"Exemplo: 912345678, 912 345 678, 91 234 56 78, 912-345-678"
   ]
  },
  {
   "cell_type": "code",
   "execution_count": 8,
   "metadata": {},
   "outputs": [
    {
     "name": "stdin",
     "output_type": "stream",
     "text": [
      "Insira nº de telefone:  91-433-12-12\n"
     ]
    },
    {
     "name": "stdout",
     "output_type": "stream",
     "text": [
      "numero válido\n",
      "Nº +351914331212\n"
     ]
    }
   ],
   "source": [
    "import re\n",
    "\n",
    "regex = r'[2789]([\\s-]?\\d)'\n",
    "\n",
    "telefone = input(\"Insira nº de telefone: \")\n",
    "digitosTelefone = \"+351\"\n",
    "\n",
    "if re.match(regex,telefone):\n",
    "    for e in re.findall('\\d',telefone): digitosTelefone+=e    \n",
    "    print ('numero válido')\n",
    "    print(f\"Nº {digitosTelefone}\")\n",
    "else:\n",
    "    print ('número inválido')"
   ]
  },
  {
   "cell_type": "markdown",
   "metadata": {},
   "source": [
    "### 5. Crie uma expressão regular para verificar a complexidade de uma password,\n",
    "    \n",
    "    Considere que esta deverá ter:,\n",
    "    * pelo menos uma maiúscula,\n",
    "    * pelo menos três minúscula,\n",
    "    * pelo menos um dígito,\n",
    "    * pelo menos seis carateres,\n",
    "    * pelo menos um carater especial,\n",
    "    \"Nota: ,\n",
    "    * a expressão regular ``(?=.*?[A-Z]).{3}\n",
    "    ``indica que há pelo menos uma letra maiúscula numa sequencia de 3 carateres``\n",
    "    * a expressão regular ``(?=(?:[^A-Z]*[A-Z]){3})\n",
    "    `` indica que há pelo menos 3 letras maiúsculas``"
   ]
  },
  {
   "cell_type": "code",
   "execution_count": 13,
   "metadata": {},
   "outputs": [
    {
     "name": "stdin",
     "output_type": "stream",
     "text": [
      "Password:  b$bm R8(a\n"
     ]
    },
    {
     "name": "stdout",
     "output_type": "stream",
     "text": [
      "* Password invalida *\n",
      "\n"
     ]
    },
    {
     "name": "stdin",
     "output_type": "stream",
     "text": [
      "Password:  b$bmR8aw\n"
     ]
    },
    {
     "name": "stdout",
     "output_type": "stream",
     "text": [
      "Sucesso\n",
      "Password = b$bmR8aw\n"
     ]
    }
   ],
   "source": [
    "import re\n",
    "\n",
    "check  = (r'^(?=.*[A-Z])(?=(?:.*[a-z]){3})(?=.*\\d)(?=\\S{6,})(?=.*\\W)(?!.*\\s+)') \n",
    "\n",
    "numTent = 0\n",
    "\n",
    "while numTent<3:\n",
    "    string  = input(\"Password: \")\n",
    "    if re.match(check,string):\n",
    "        print(\"Sucesso\")\n",
    "        print(f\"Password = {re.match(check,string).string}\")\n",
    "        break\n",
    "    else:\n",
    "        print(\"* Password invalida *\\n\")\n",
    "        numTent+=1\n",
    "    if numTent==3: print(\"\\n Sem sucesso.\")"
   ]
  },
  {
   "cell_type": "markdown",
   "metadata": {},
   "source": [
    "### \"6. Escreva um programa que recebe um ficheiro de texto e imprime uma lista de todos os emails que este contem. Utilize a expressão regular que definiu na pergunta 1.\""
   ]
  },
  {
   "cell_type": "code",
   "execution_count": 34,
   "metadata": {},
   "outputs": [
    {
     "name": "stdout",
     "output_type": "stream",
     "text": [
      "Emails: ['man.uel@gmail.com', '_pedro@hotmail.pt', 'jos-e@yahoo.biz', 'joao@yahoo.biz', 'an-dre@yahoo.bi', 'bru-no@yahoo.bi']\n"
     ]
    }
   ],
   "source": [
    "import re\n",
    "\n",
    "with open(\"emails.txt\") as f:\n",
    "    linhas = f.readlines()\n",
    "    \n",
    "regex = '\\w[\\w\\.-]+@\\w+[.]\\w+'\n",
    "emails = []\n",
    "\n",
    "for l in linhas:\n",
    "    emails += re.findall(regex, l)\n",
    "\n",
    "print(f\"Emails: {emails}\")"
   ]
  },
  {
   "cell_type": "markdown",
   "metadata": {},
   "source": [
    "### 7. Escreva um programa que recebe um ficheiro com emails e retorna apenas o domínio de cada email. Por exemplo, para ``abc.test@gmail.com, xyz@test.in, test.first@analyticsvidhya.com, first.test@rest.biz `` deverá retornar \n",
    "### ``[com, in, com, biz]``\n",
    "\n",
    "### Pista: no método findall, se identificarmos um grupo (...), é retornado apenas o seu conteúdo. Exemplo:\n",
    "\n",
    " ```\n",
    ">> result=re.findall(r':(\\d\\d)','aba:32 gre:23 qwerv:56') \n",
    " >> print (result)\n",
    " ['32', '23', '56']\n",
    "\n"
   ]
  },
  {
   "cell_type": "code",
   "execution_count": 31,
   "metadata": {},
   "outputs": [
    {
     "name": "stdout",
     "output_type": "stream",
     "text": [
      "{'pt', 'bi', 'com', 'biz'}\n"
     ]
    }
   ],
   "source": [
    "import re\n",
    "\n",
    "with open(\"emails.txt\") as f:\n",
    "    linhas = f.readlines()\n",
    "    \n",
    "separador = '\\.'\n",
    "dominios = set()\n",
    "\n",
    "#for l in linhas:\n",
    "#    dominios.add(re.split(separador, l)[-1].strip('\\n'))  #utilizando o metodo split (menos eficiente)\n",
    "\n",
    "for l in linhas:      \n",
    "    dominiosLinha = re.findall(r'[@]\\w+\\.(\\w+)',l)         #utilizando o metodo findall\n",
    "    if dominiosLinha:\n",
    "        for e in dominiosLinha: dominios.add(e)\n",
    "            \n",
    "print(dominios)"
   ]
  },
  {
   "cell_type": "code",
   "execution_count": null,
   "metadata": {},
   "outputs": [],
   "source": []
  }
 ],
 "metadata": {
  "kernelspec": {
   "display_name": "Python 3",
   "language": "python",
   "name": "python3"
  },
  "language_info": {
   "codemirror_mode": {
    "name": "ipython",
    "version": 3
   },
   "file_extension": ".py",
   "mimetype": "text/x-python",
   "name": "python",
   "nbconvert_exporter": "python",
   "pygments_lexer": "ipython3",
   "version": "3.7.6"
  }
 },
 "nbformat": 4,
 "nbformat_minor": 4
}
